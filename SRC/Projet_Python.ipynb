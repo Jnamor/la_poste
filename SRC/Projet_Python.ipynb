{
 "metadata": {
  "language_info": {
   "codemirror_mode": {
    "name": "ipython",
    "version": 3
   },
   "file_extension": ".py",
   "mimetype": "text/x-python",
   "name": "python",
   "nbconvert_exporter": "python",
   "pygments_lexer": "ipython3",
   "version": "3.7.3-final"
  },
  "orig_nbformat": 2,
  "kernelspec": {
   "name": "python3",
   "display_name": "Python 3",
   "language": "python"
  }
 },
 "nbformat": 4,
 "nbformat_minor": 2,
 "cells": [
  {
   "cell_type": "code",
   "execution_count": 4,
   "metadata": {},
   "outputs": [
    {
     "output_type": "stream",
     "name": "stdout",
     "text": [
      "93.170.131.108 pisistratus\n93.170.131.108 pisistratus\n93.170.131.108 pisistratus\n93.170.131.108 pisistratus\n93.170.131.108 pisistratus\n93.170.131.108 pisistratus\n93.170.131.108 pisistratus\n93.170.131.108 pisistratus\n93.170.131.108 pisistratus\n93.170.131.108 pisistratus\n93.170.131.108 pisistratus\n93.170.131.108 pisistratus\n93.170.131.108 pisistratus\n93.170.131.108 pisistratus\n93.170.131.108 pisistratus\n93.170.131.108 pisistratus\n93.170.131.108 pisistratus\n93.170.131.108 pisistratus\n93.170.131.108 pisistratus\n93.170.131.108 pisistratus\n93.170.131.108 pisistratus\n93.170.131.108 pisistratus\n93.170.131.108 pisistratus\n93.170.131.108 pisistratus\n93.170.131.108 pisistratus\n93.170.131.108 pisistratus\n93.170.131.108 pisistratus\n93.170.131.108 pisistratus\n93.170.131.108 pisistratus\n93.170.131.108 pisistratus\n93.170.131.108 pisistratus\n93.170.131.108 pisistratus\n93.170.131.108 pisistratus\n93.170.131.108 pisistratus\n93.170.131.108 pisistratus\n93.170.131.108 pisistratus\n93.170.131.108 pisistratus\n93.170.131.108 pisistratus\n93.170.131.108 pisistratus\n93.170.131.108 pisistratus\n93.170.131.108 pisistratus\n93.170.131.108 pisistratus\n93.170.131.108 pisistratus\n93.170.131.108 pisistratus\n93.170.131.108 pisistratus\n93.170.131.108 pisistratus\n"
     ]
    }
   ],
   "source": [
    "f = open(\"C:/Users/jorda/Dropbox/Simplon/Programmation/Python/La Poste/Input/connexion.log.txt\", \"r\")\n",
    "p = open(\"C:/Users/jorda/Dropbox/Simplon/Programmation/Python/La Poste/Input/warning.txt\", \"r\") \n",
    "utilisateurs = []\n",
    "warning = []\n",
    "repetition = []\n",
    "suspects = []\n",
    "\n",
    "for j in p:\n",
    "    warning.append(j.strip())\n",
    "\n",
    "for i in f:\n",
    "    m = i.strip().split(\";\")\n",
    "    utilisateurs.append(m[1]) #1\n",
    "    n = m[2].split(\" \")\n",
    "    if n[1] > '19:00' or n[1] < '08:00': #2\n",
    "        print(m[0], m[1])\n",
    "    for k in warning:\n",
    "        if m[0] == k:\n",
    "            repetition.append(m[1])\n",
    "\n",
    "suspects = list(set(repetition))\n",
    "q = open('C:/Users/jorda/Dropbox/Simplon/Programmation/Python/La Poste/Output/suspects.txt', 'w')\n",
    "for l in suspects:\n",
    "    q.write(\"{} ; {} fois\\n\".format(l, repetition.count(l)))\n",
    "\n",
    "u = open('C:/Users/jorda/Dropbox/Simplon/Programmation/Python/La Poste/Output/utilisateurs.txt', 'w')\n",
    "u.write(str(utilisateurs))\n",
    "\n",
    "f.close()\n",
    "p.close()"
   ]
  },
  {
   "cell_type": "code",
   "execution_count": null,
   "metadata": {},
   "outputs": [],
   "source": []
  }
 ]
}